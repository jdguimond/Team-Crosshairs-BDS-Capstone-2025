{
 "cells": [
  {
   "cell_type": "raw",
   "id": "f77d965c-5113-421c-a5cf-53a500dbd5bf",
   "metadata": {},
   "source": [
    "LSC 586 Capstone II\n",
    "Summer B 2025\n",
    "Team Crosshairs\n",
    "---\n",
    "Jupyter notebook to run base models for prediction of off-target cleavage for CRISPR-Cas9"
   ]
  },
  {
   "cell_type": "raw",
   "id": "be298173-0c76-4974-bc27-7b56cf53f822",
   "metadata": {},
   "source": [
    "Load packages by running sample data through base models"
   ]
  },
  {
   "cell_type": "code",
   "execution_count": 1,
   "id": "5653b595-6ed2-4fe2-8c8c-c7122fc12eb9",
   "metadata": {},
   "outputs": [
    {
     "name": "stdout",
     "output_type": "stream",
     "text": [
      "/home/jsinohui/CRISPR-DIPOFF\n"
     ]
    },
    {
     "name": "stderr",
     "output_type": "stream",
     "text": [
      "/etc/python/sitecustomize.py:115: TqdmWarning: IProgress not found. Please update jupyter and ipywidgets. See https://ipywidgets.readthedocs.io/en/stable/user_install.html\n",
      "  mod = _original_import(name, globals, locals, fromlist, level)\n",
      "/home/jsinohui/.conda/envs/LSC586_tf1/lib/python3.6/site-packages/torch/cuda/__init__.py:143: UserWarning: \n",
      "NVIDIA A100-SXM4-80GB MIG 2g.20gb with CUDA capability sm_80 is not compatible with the current PyTorch installation.\n",
      "The current PyTorch install supports CUDA capabilities sm_37 sm_50 sm_60 sm_70.\n",
      "If you want to use the NVIDIA A100-SXM4-80GB MIG 2g.20gb GPU with PyTorch, please check the instructions at https://pytorch.org/get-started/locally/\n",
      "\n",
      "  warnings.warn(incompatible_device_warn.format(device_name, capability, \" \".join(arch_list), device_name))\n"
     ]
    },
    {
     "name": "stdout",
     "output_type": "stream",
     "text": [
      "\n",
      "IPython CPU timings (estimated):\n",
      "  User   :     191.70 s.\n",
      "  System :       0.85 s.\n",
      "Wall time:      58.91 s.\n",
      "/home/jsinohui/picrispr\n"
     ]
    },
    {
     "name": "stderr",
     "output_type": "stream",
     "text": [
      "/home/jsinohui/.conda/envs/LSC586_tf1/lib/python3.6/site-packages/tensorflow/python/framework/dtypes.py:523: FutureWarning: Passing (type, 1) or '1type' as a synonym of type is deprecated; in a future version of numpy, it will be understood as (type, (1,)) / '(1,)type'.\n",
      "  _np_qint8 = np.dtype([(\"qint8\", np.int8, 1)])\n",
      "/home/jsinohui/.conda/envs/LSC586_tf1/lib/python3.6/site-packages/tensorflow/python/framework/dtypes.py:524: FutureWarning: Passing (type, 1) or '1type' as a synonym of type is deprecated; in a future version of numpy, it will be understood as (type, (1,)) / '(1,)type'.\n",
      "  _np_quint8 = np.dtype([(\"quint8\", np.uint8, 1)])\n",
      "/home/jsinohui/.conda/envs/LSC586_tf1/lib/python3.6/site-packages/tensorflow/python/framework/dtypes.py:525: FutureWarning: Passing (type, 1) or '1type' as a synonym of type is deprecated; in a future version of numpy, it will be understood as (type, (1,)) / '(1,)type'.\n",
      "  _np_qint16 = np.dtype([(\"qint16\", np.int16, 1)])\n",
      "/home/jsinohui/.conda/envs/LSC586_tf1/lib/python3.6/site-packages/tensorflow/python/framework/dtypes.py:526: FutureWarning: Passing (type, 1) or '1type' as a synonym of type is deprecated; in a future version of numpy, it will be understood as (type, (1,)) / '(1,)type'.\n",
      "  _np_quint16 = np.dtype([(\"quint16\", np.uint16, 1)])\n",
      "/home/jsinohui/.conda/envs/LSC586_tf1/lib/python3.6/site-packages/tensorflow/python/framework/dtypes.py:527: FutureWarning: Passing (type, 1) or '1type' as a synonym of type is deprecated; in a future version of numpy, it will be understood as (type, (1,)) / '(1,)type'.\n",
      "  _np_qint32 = np.dtype([(\"qint32\", np.int32, 1)])\n",
      "/home/jsinohui/.conda/envs/LSC586_tf1/lib/python3.6/site-packages/tensorflow/python/framework/dtypes.py:532: FutureWarning: Passing (type, 1) or '1type' as a synonym of type is deprecated; in a future version of numpy, it will be understood as (type, (1,)) / '(1,)type'.\n",
      "  np_resource = np.dtype([(\"resource\", np.ubyte, 1)])\n"
     ]
    },
    {
     "name": "stdout",
     "output_type": "stream",
     "text": [
      "torch _interface_type_s2 __________________________________\n",
      "encoding dataset..."
     ]
    },
    {
     "name": "stderr",
     "output_type": "stream",
     "text": [
      "2it [00:00, 9157.87it/s]\n",
      "839it [00:00, 24520.57it/s]\n",
      "2it [00:00, 10713.42it/s]\n",
      "61it [00:00, 23620.06it/s]\n",
      "74it [00:00, 23570.66it/s]\n",
      "22it [00:00, 21469.22it/s]\n"
     ]
    },
    {
     "name": "stdout",
     "output_type": "stream",
     "text": [
      "using GPU device NVIDIA A100-SXM4-80GB MIG 2g.20gb\n",
      "done\n",
      "loading model...done\n",
      "preparing dataset...done\n",
      "obtaining predictions...\n",
      "successfully saved predictions to output.csv\n",
      "\n",
      "IPython CPU timings (estimated):\n",
      "  User   :       1.50 s.\n",
      "  System :       0.76 s.\n",
      "Wall time:       4.32 s.\n",
      "/home/jsinohui/CRISPR-Net/code\n",
      "\n"
     ]
    },
    {
     "name": "stderr",
     "output_type": "stream",
     "text": [
      "Using TensorFlow backend.\n"
     ]
    },
    {
     "name": "stdout",
     "output_type": "stream",
     "text": [
      "Loaded model from disk!\n",
      "\n",
      "-------------------------------- Result --------------------------------\n",
      "                     on_seq                   off_seq  CRISPR_Net_score\n",
      "0  GAGT_CCGAGCAGAAGAAGAATGG  GAGTACCAAGTAGAAGAAAAATTT      3.635693e-12\n",
      "1   GTTGCCCCACAGGGCAGTAAAGG   GTGGACACCCCGGGCAGGAAAGG      5.105290e-08\n",
      "2   GGGTGGGGGGAGTTTGCTCCCGG   GTGTGGGGTAAATTTGCTCCCAG      3.504494e-01\n",
      "3   GGGTGGGGGGAGTTTGCTCCAGG   AGGTGGGGTGA_TTTGCTCCAGG      1.460406e-01\n",
      "4   GATGGTAGATGGAGACTCAGNGG   GGTAGGAAATGGAGAGGCAGAGG      3.828623e-06\n",
      "5   GAGTCCGAGCAGAAGAAGAAAGG   GAGTTAGAGCAGAAGAAGAAAGG      9.184679e-01\n",
      "------------------------------------------------------------------------\n",
      "Save the results to ../results/CRISPR_net_results.csv!\n",
      "\n",
      "IPython CPU timings (estimated):\n",
      "  User   :       0.57 s.\n",
      "  System :       0.01 s.\n",
      "Wall time:       0.71 s.\n"
     ]
    }
   ],
   "source": [
    "# CRISPR-DIPOFF\n",
    "%cd ~/CRISPR-DIPOFF\n",
    "%run -t Predict\\ with\\ LSTM\\ Model_args.py '/home/jsinohui/CRISPR-DIPOFF/' 'sample_input.csv' 'sample_output.csv'\n",
    "\n",
    "# piCRISPR\n",
    "%cd ~/picrispr/\n",
    "%run -t picrispr.py test_input.csv\n",
    "\n",
    "# CRISPR-Net\n",
    "%cd ~/CRISPR-Net/code\n",
    "%run -t CRISPR_Net.py input.txt"
   ]
  },
  {
   "cell_type": "raw",
   "id": "24310c69-8a72-4042-bbcc-5b3eea746a83",
   "metadata": {},
   "source": [
    "Run base models"
   ]
  },
  {
   "cell_type": "code",
   "execution_count": 2,
   "id": "79960f47-f89f-48fd-a22c-0fbf65cb58d8",
   "metadata": {},
   "outputs": [
    {
     "name": "stdout",
     "output_type": "stream",
     "text": [
      "/home/jsinohui/CRISPR-DIPOFF\n",
      "\n",
      "IPython CPU timings (estimated):\n",
      "  User   :      20.12 s.\n",
      "  System :       0.02 s.\n",
      "Wall time:       6.08 s.\n"
     ]
    }
   ],
   "source": [
    "# CRISPR-DIPOFF\n",
    "import os\n",
    "os.rename('/home/jsinohui/zebrafish_input/CRISPR_DIPOFF_input.csv', r'/home/jsinohui/CRISPR-DIPOFF/Sample Input/CRISPR_DIPOFF_input.csv')\n",
    "%cd ~/CRISPR-DIPOFF/\n",
    "%run -t Predict\\ with\\ LSTM\\ Model_args.py '/home/jsinohui/CRISPR-DIPOFF/' 'CRISPR_DIPOFF_input.csv' 'CRISPR_DIPOFF_output.csv'\n",
    "os.rename(r'/home/jsinohui/CRISPR-DIPOFF/Sample Input/CRISPR_DIPOFF_input.csv', '/home/jsinohui/zebrafish_input/CRISPR_DIPOFF_input.csv')"
   ]
  },
  {
   "cell_type": "code",
   "execution_count": 3,
   "id": "48cbfbeb-b42a-4dc7-96db-2e3bfe3b081c",
   "metadata": {},
   "outputs": [
    {
     "name": "stdout",
     "output_type": "stream",
     "text": [
      "/home/jsinohui/CRISPR-DIPOFF\n",
      "\n",
      "IPython CPU timings (estimated):\n",
      "  User   :       0.36 s.\n",
      "  System :       0.01 s.\n",
      "Wall time:       0.15 s.\n"
     ]
    }
   ],
   "source": [
    "# CRISPR-DIPOFF\n",
    "import os\n",
    "os.rename('/home/jsinohui/zebrafish_input/CRISPR_DIPOFF_input2.csv', r'/home/jsinohui/CRISPR-DIPOFF/Sample Input/CRISPR_DIPOFF_input2.csv')\n",
    "%cd ~/CRISPR-DIPOFF/\n",
    "%run -t Predict\\ with\\ LSTM\\ Model_args.py '/home/jsinohui/CRISPR-DIPOFF/' 'CRISPR_DIPOFF_input2.csv' 'CRISPR_DIPOFF_output2.csv'\n",
    "os.rename(r'/home/jsinohui/CRISPR-DIPOFF/Sample Input/CRISPR_DIPOFF_input2.csv', '/home/jsinohui/zebrafish_input/CRISPR_DIPOFF_input2.csv')"
   ]
  },
  {
   "cell_type": "code",
   "execution_count": 4,
   "id": "703c0ddd-f0c4-46a1-8504-642e826c8aab",
   "metadata": {},
   "outputs": [
    {
     "name": "stdout",
     "output_type": "stream",
     "text": [
      "/home/jsinohui/picrispr\n",
      "torch _interface_type_s2 __________________________________\n",
      "encoding dataset...WARNING: Feature energy_2+energy_1-(energy_3*energy_4/energy_2) was not given and no default values could be found. It will be filled with zeros, which will likely lead to decreased prediction accuracy.\n"
     ]
    },
    {
     "name": "stderr",
     "output_type": "stream",
     "text": [
      "3353it [00:00, 23900.73it/s]\n",
      "0it [00:00, ?it/s]\n"
     ]
    },
    {
     "name": "stdout",
     "output_type": "stream",
     "text": [
      "using GPU device NVIDIA A100-SXM4-80GB MIG 2g.20gb\n",
      "done\n",
      "loading model...done\n",
      "preparing dataset...done\n",
      "obtaining predictions...\n",
      "successfully saved predictions to output.csv\n",
      "\n",
      "IPython CPU timings (estimated):\n",
      "  User   :       0.72 s.\n",
      "  System :       0.23 s.\n",
      "Wall time:       0.66 s.\n"
     ]
    }
   ],
   "source": [
    "# piCRISPR\n",
    "%cd ~/picrispr/\n",
    "%run -t picrispr.py ~/zebrafish_input/piCRISPR_input.csv"
   ]
  },
  {
   "cell_type": "code",
   "execution_count": 5,
   "id": "cd3bd773-1307-4437-9ff5-43608fd21016",
   "metadata": {},
   "outputs": [
    {
     "name": "stdout",
     "output_type": "stream",
     "text": [
      "/home/jsinohui/CRISPR-Net/code\n",
      "\n",
      "Loaded model from disk!\n",
      "\n",
      "-------------------------------- Result --------------------------------\n",
      "                       on_seq                  off_seq  CRISPR_Net_score\n",
      "0     GGAATGGATGAGAGCTACAAGGG  TGATTGGATAAGAGCTACTAGGC      3.971996e-03\n",
      "1     CGCGTGGAGCACGGCGAGGAGGG  CTAGTGGAGCACGGTGATGGCGG      2.682913e-07\n",
      "2     TGGGAAGCTCCTGGGCCTTCAGG  TTAGGAGCCCCTGGGCCTCCTGG      1.574114e-02\n",
      "3     TGGGAAGCTCCTGGGCCTTCAGG  CGGGAGACTCCTGGAACTTCTGG      2.108021e-01\n",
      "4     TGGGAAGCTCCTGGGCCTTCAGG  CGGGAGACTCCTGGAACTTCCGG      1.882851e-01\n",
      "...                       ...                      ...               ...\n",
      "3348  TGCAGCCGATCTGAAGACGTGGG  GCAGCCGTTATAAAGAAGTGGAG      1.000000e+00\n",
      "3349  TGCAGCCGATCTGAAGACGTGGG  GGGCAGTCTATATAAAGACGTGT      1.000000e+00\n",
      "3350  TGCAGCCGATCTGAAGACGTGGG  TGACAGCTGATCTGAAGACTTTT      1.000000e+00\n",
      "3351  TGCAGCCGATCTGAAGACGTGGG  GGAGCCAATTTGAAGACCTGAGG      1.000000e+00\n",
      "3352  GTCTCCTGCTAAATTCCGAAAGG  GGGTTCATGCTAAATTACGAGAT      1.000000e+00\n",
      "\n",
      "[3353 rows x 3 columns]\n",
      "------------------------------------------------------------------------\n",
      "Save the results to ../results/CRISPR_net_results.csv!\n",
      "\n",
      "IPython CPU timings (estimated):\n",
      "  User   :       2.09 s.\n",
      "  System :       0.13 s.\n",
      "Wall time:       1.64 s.\n"
     ]
    }
   ],
   "source": [
    "# CRISPR-Net\n",
    "%cd ~/CRISPR-Net/code\n",
    "%run -t CRISPR_Net.py ~/zebrafish_input/CRISPR-NET_input.txt"
   ]
  },
  {
   "cell_type": "raw",
   "id": "cf7f654e-14ba-4544-8256-6e0e2fc92aaa",
   "metadata": {},
   "source": [
    "Collect base model output files"
   ]
  },
  {
   "cell_type": "code",
   "execution_count": 6,
   "id": "a5fa9259-1989-401c-b714-b0dd76f65fc7",
   "metadata": {},
   "outputs": [
    {
     "name": "stdout",
     "output_type": "stream",
     "text": [
      "/home/jsinohui\n"
     ]
    }
   ],
   "source": [
    "%cd ~/\n",
    "os.rename(r'CRISPR-DIPOFF/Sample Output/CRISPR_DIPOFF_output.csv', 'zebrafish_output/CRISPR_DIPOFF_output.csv')\n",
    "os.rename(r'CRISPR-DIPOFF/Sample Output/CRISPR_DIPOFF_output2.csv', 'zebrafish_output/CRISPR_DIPOFF_output2.csv')\n",
    "os.rename('picrispr/output.csv', 'zebrafish_output/picrispr_output.csv')\n",
    "os.rename('CRISPR-Net/results/CRISPR_net_results.csv', 'zebrafish_output/CRISPR_net_output.csv')"
   ]
  },
  {
   "cell_type": "raw",
   "id": "e74771b9-663a-4810-8ab6-1aaf0c3be413",
   "metadata": {},
   "source": [
    "Python 3.6\n",
    "\n",
    "Package             Version\n",
    "------------------- -----------\n",
    "absl-py             1.4.0\n",
    "astor               0.8.1\n",
    "backcall            0.2.0\n",
    "cached-property     1.5.2\n",
    "cycler              0.11.0\n",
    "dataclasses         0.8\n",
    "decorator           5.1.1\n",
    "entrypoints         0.4\n",
    "gast                0.6.0\n",
    "grpcio              1.48.2\n",
    "h5py                2.10.0\n",
    "importlib-metadata  4.8.3\n",
    "importlib-resources 5.4.0\n",
    "ipykernel           5.5.6\n",
    "ipython             7.16.3\n",
    "ipython-genutils    0.2.0\n",
    "jedi                0.17.2\n",
    "joblib              1.1.1\n",
    "jupyter-client      7.1.2\n",
    "jupyter-core        4.9.2\n",
    "Keras               2.2.4\n",
    "Keras-Applications  1.0.8\n",
    "Keras-Preprocessing 1.1.2\n",
    "kiwisolver          1.3.1\n",
    "Markdown            3.3.7\n",
    "matplotlib          3.3.4\n",
    "nest-asyncio        1.6.0\n",
    "numpy               1.19.5\n",
    "pandas              1.0.3\n",
    "parso               0.7.1\n",
    "pexpect             4.9.0\n",
    "pickleshare         0.7.5\n",
    "Pillow              8.4.0\n",
    "pip                 21.3.1\n",
    "prompt-toolkit      3.0.36\n",
    "protobuf            3.19.6\n",
    "ptyprocess          0.7.0\n",
    "Pygments            2.14.0\n",
    "pyparsing           3.1.4\n",
    "python-dateutil     2.9.0.post0\n",
    "pytz                2025.2\n",
    "PyYAML              6.0.1\n",
    "pyzmq               25.1.2\n",
    "scikit-learn        0.22.1\n",
    "scipy               1.5.4\n",
    "setuptools          58.0.4\n",
    "six                 1.17.0\n",
    "tensorboard         1.12.2\n",
    "tensorflow          1.12.0\n",
    "termcolor           1.1.0\n",
    "torch               1.10.1\n",
    "torchvision         0.11.2\n",
    "tornado             6.1\n",
    "tqdm                4.64.1\n",
    "traitlets           4.3.3\n",
    "typing_extensions   4.1.1\n",
    "wcwidth             0.2.13\n",
    "Werkzeug            2.0.3\n",
    "wheel               0.37.1\n",
    "xgboost             1.5.2\n",
    "zipp                3.6.0"
   ]
  },
  {
   "cell_type": "code",
   "execution_count": null,
   "id": "3b704fe9-8b66-4f51-b017-baf7764c4749",
   "metadata": {},
   "outputs": [],
   "source": []
  },
  {
   "cell_type": "code",
   "execution_count": null,
   "id": "3fc3e6af-2d9a-4aa4-a839-b4f8f3deea59",
   "metadata": {},
   "outputs": [],
   "source": []
  },
  {
   "cell_type": "code",
   "execution_count": null,
   "id": "e0d24657-266e-4346-97d9-f1855859f0c6",
   "metadata": {},
   "outputs": [],
   "source": []
  }
 ],
 "metadata": {
  "kernelspec": {
   "display_name": "LSC586_tf1-kernel",
   "language": "python",
   "name": "lsc586_tf1-kernel"
  },
  "language_info": {
   "codemirror_mode": {
    "name": "ipython",
    "version": 3
   },
   "file_extension": ".py",
   "mimetype": "text/x-python",
   "name": "python",
   "nbconvert_exporter": "python",
   "pygments_lexer": "ipython3",
   "version": "3.6.15"
  }
 },
 "nbformat": 4,
 "nbformat_minor": 5
}
